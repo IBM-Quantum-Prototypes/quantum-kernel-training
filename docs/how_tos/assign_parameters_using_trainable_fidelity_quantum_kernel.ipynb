{
 "cells": [
  {
   "cell_type": "markdown",
   "id": "1661fbd6",
   "metadata": {},
   "source": [
    "## How To Assign Training Parameters to a Quantum Kernel\n",
    "\n",
    "In this guide, we show the ins and outs of assigning training parameters to a `TrainableKernel` instance using Qiskit Machine Learning. \n",
    "\n",
    "We can create a `TrainableFidelityQuantumKernel` (`QK`) and specify our feature map and trainable parameters. This can be done at initialization by passing an array of `Parameters` as the `training_parameters` argument to the `QK` constructor.\n",
    "\n",
    "After the `QK.training_parameters` field has been set, `QK.assign_training_parameters()` offers two ways to assign values to the training parameters\n",
    "\n",
    "1. Bind training parameters using a dictionary\n",
    "    - Keys to dict must be parameters within the feature map and must exist in `QK.training_parameters`\n",
    "    - Values in dict may be either numerical assignments or `ParameterExpression` objects\n",
    "2. Bind user parameters using a list of values\n",
    "    - If binding using a list of values, the list must be of same size and ordering as `QK.training_parameters`. Each input value will be bound to its corresponding ``training_parameters`` value.\n",
    "     \n",
    "We begin by importing a few packages and instantiating a feature map circuit with three trainable parameters, `θ`, and three input parameters, `x`."
   ]
  },
  {
   "cell_type": "code",
   "execution_count": 1,
   "id": "c48c2b6b",
   "metadata": {},
   "outputs": [],
   "source": [
    "# pylint: disable=import-error, wrong-import-position, pointless-statement\n",
    "import os\n",
    "import sys\n",
    "import numpy as np\n",
    "\n",
    "from qiskit import QuantumCircuit\n",
    "from qiskit.circuit import ParameterVector\n",
    "from qiskit_machine_learning.kernels import TrainableFidelityQuantumKernel"
   ]
  },
  {
   "cell_type": "code",
   "execution_count": 2,
   "id": "9a3dffe8",
   "metadata": {},
   "outputs": [
    {
     "name": "stdout",
     "output_type": "stream",
     "text": [
      "input_params: x, ['x[0]', 'x[1]', 'x[2]']\n",
      "training_params: θ, ['θ[0]', 'θ[1]', 'θ[2]']\n"
     ]
    },
    {
     "data": {
      "text/html": [
       "<pre style=\"word-wrap: normal;white-space: pre;background: #fff0;line-height: 1.1;font-family: &quot;Courier New&quot;,Courier,monospace\">     ┌───┐┌──────────┐                        ┌──────────┐\n",
       "q_0: ┤ H ├┤ Ry(θ[0]) ├─────■──────────────────┤ Rx(x[2]) ├\n",
       "     ├───┤├──────────┤┌────┴─────┐            └────┬─────┘\n",
       "q_1: ┤ H ├┤ Ry(θ[1]) ├┤ Rx(x[0]) ├─────■───────────┼──────\n",
       "     ├───┤├──────────┤└──────────┘┌────┴─────┐     │      \n",
       "q_2: ┤ H ├┤ Ry(θ[2]) ├────────────┤ Rx(x[1]) ├─────■──────\n",
       "     └───┘└──────────┘            └──────────┘            </pre>"
      ],
      "text/plain": [
       "     ┌───┐┌──────────┐                        ┌──────────┐\n",
       "q_0: ┤ H ├┤ Ry(θ[0]) ├─────■──────────────────┤ Rx(x[2]) ├\n",
       "     ├───┤├──────────┤┌────┴─────┐            └────┬─────┘\n",
       "q_1: ┤ H ├┤ Ry(θ[1]) ├┤ Rx(x[0]) ├─────■───────────┼──────\n",
       "     ├───┤├──────────┤└──────────┘┌────┴─────┐     │      \n",
       "q_2: ┤ H ├┤ Ry(θ[2]) ├────────────┤ Rx(x[1]) ├─────■──────\n",
       "     └───┘└──────────┘            └──────────┘            "
      ]
     },
     "execution_count": 2,
     "metadata": {},
     "output_type": "execute_result"
    }
   ],
   "source": [
    "NUM_QUBITS = 3\n",
    "fm = QuantumCircuit(NUM_QUBITS)\n",
    "input_params = ip = ParameterVector(\"x\", NUM_QUBITS)\n",
    "training_params = tp = ParameterVector(\"θ\", NUM_QUBITS)\n",
    "\n",
    "for i in range(NUM_QUBITS):\n",
    "    fm.h(i)\n",
    "    fm.ry(tp[i], i)\n",
    "\n",
    "for i in range(NUM_QUBITS):\n",
    "    fm.crx(ip[i], (i) % NUM_QUBITS, (i + 1) % NUM_QUBITS)\n",
    "\n",
    "# Define a Quantum Kernel using our trainable feature map\n",
    "qk = TrainableFidelityQuantumKernel(\n",
    "    feature_map=fm, training_parameters=training_params[:NUM_QUBITS]\n",
    ")\n",
    "\n",
    "print(\"input_params:\", input_params)\n",
    "print(\"training_params:\", training_params)\n",
    "qk.feature_map.draw()"
   ]
  },
  {
   "cell_type": "markdown",
   "id": "095ada7a",
   "metadata": {},
   "source": [
    "### Option  1: Bind User Parameters with a Dictionary\n",
    "\n",
    "Here, we will use a dictionary of the form `{Parameter : Value}` that maps training parameters to either numeric values or `ParameterExpression` objects."
   ]
  },
  {
   "cell_type": "code",
   "execution_count": 3,
   "id": "043be1e7",
   "metadata": {},
   "outputs": [
    {
     "data": {
      "text/plain": [
       "array([1.57079633, 1.04719755, 0.78539816])"
      ]
     },
     "execution_count": 3,
     "metadata": {},
     "output_type": "execute_result"
    }
   ],
   "source": [
    "# Bind parameters to numeric values\n",
    "param_binds = {tp[0]: np.pi / 2, tp[1]: np.pi / 3, tp[2]: np.pi / 4}\n",
    "\n",
    "qk.assign_training_parameters(param_binds)\n",
    "qk.parameter_values"
   ]
  },
  {
   "cell_type": "markdown",
   "id": "dae73e81",
   "metadata": {},
   "source": [
    "We are free to bind a subset of our training parameters and re-bind parameters to new values."
   ]
  },
  {
   "cell_type": "code",
   "execution_count": 4,
   "id": "99289d92",
   "metadata": {},
   "outputs": [
    {
     "data": {
      "text/plain": [
       "array([0.52359878, 0.62831853, 0.78539816])"
      ]
     },
     "execution_count": 4,
     "metadata": {},
     "output_type": "execute_result"
    }
   ],
   "source": [
    "# Create incomplete training param bindings\n",
    "param_binds = {tp[0]: np.pi / 6, tp[1]: np.pi / 5}\n",
    "\n",
    "qk.assign_training_parameters(param_binds)\n",
    "qk.parameter_values"
   ]
  },
  {
   "cell_type": "markdown",
   "id": "4f5d53da",
   "metadata": {},
   "source": [
    "We can  un-bind our training parameters or assign training parameters to different `ParameterExpression` objects. This is done in in the same way that we would bind numeric values. "
   ]
  },
  {
   "cell_type": "code",
   "execution_count": 5,
   "id": "3a651322",
   "metadata": {},
   "outputs": [
    {
     "data": {
      "text/plain": [
       "array([ParameterVectorElement(θ[0]), ParameterExpression(θ[0] + θ[2]),\n",
       "       ParameterVectorElement(θ[2])], dtype=object)"
      ]
     },
     "execution_count": 5,
     "metadata": {},
     "output_type": "execute_result"
    }
   ],
   "source": [
    "# Create incomplete user param bindings\n",
    "param_binds = {tp[0]: tp[0], tp[1]: tp[0] + tp[2], tp[2]: tp[2]}\n",
    "\n",
    "qk.assign_training_parameters(param_binds)\n",
    "qk.parameter_values"
   ]
  },
  {
   "cell_type": "markdown",
   "id": "5c9a8dc4",
   "metadata": {},
   "source": [
    "### Option 2: Bind Training Parameters with a List\n",
    "\n",
    "If the `training_parameters` have been specified in the `QuantumKernel`, we may bind and unbind those parameters using only lists of parameter values. Note that the list of values must always be equal in size to the `QuantumKernel.training_parameters` array, and the values will be assigned in order.\n",
    "\n",
    "Here we instantiate a new quantum kernel with the three training parameters unbound."
   ]
  },
  {
   "cell_type": "code",
   "execution_count": 6,
   "id": "04eada3c",
   "metadata": {},
   "outputs": [
    {
     "data": {
      "text/html": [
       "<pre style=\"word-wrap: normal;white-space: pre;background: #fff0;line-height: 1.1;font-family: &quot;Courier New&quot;,Courier,monospace\">     ┌───┐┌──────────┐                        ┌──────────┐\n",
       "q_0: ┤ H ├┤ Ry(θ[0]) ├─────■──────────────────┤ Rx(x[2]) ├\n",
       "     ├───┤├──────────┤┌────┴─────┐            └────┬─────┘\n",
       "q_1: ┤ H ├┤ Ry(θ[1]) ├┤ Rx(x[0]) ├─────■───────────┼──────\n",
       "     ├───┤├──────────┤└──────────┘┌────┴─────┐     │      \n",
       "q_2: ┤ H ├┤ Ry(θ[2]) ├────────────┤ Rx(x[1]) ├─────■──────\n",
       "     └───┘└──────────┘            └──────────┘            </pre>"
      ],
      "text/plain": [
       "     ┌───┐┌──────────┐                        ┌──────────┐\n",
       "q_0: ┤ H ├┤ Ry(θ[0]) ├─────■──────────────────┤ Rx(x[2]) ├\n",
       "     ├───┤├──────────┤┌────┴─────┐            └────┬─────┘\n",
       "q_1: ┤ H ├┤ Ry(θ[1]) ├┤ Rx(x[0]) ├─────■───────────┼──────\n",
       "     ├───┤├──────────┤└──────────┘┌────┴─────┐     │      \n",
       "q_2: ┤ H ├┤ Ry(θ[2]) ├────────────┤ Rx(x[1]) ├─────■──────\n",
       "     └───┘└──────────┘            └──────────┘            "
      ]
     },
     "execution_count": 6,
     "metadata": {},
     "output_type": "execute_result"
    }
   ],
   "source": [
    "qk = TrainableFidelityQuantumKernel(feature_map=fm, training_parameters=training_params)\n",
    "qk.feature_map.draw()"
   ]
  },
  {
   "cell_type": "markdown",
   "id": "b0e8f85d",
   "metadata": {},
   "source": [
    "We may want to assign numerical values to parameters 0 and 2, while leaving parameter 1 unchanged."
   ]
  },
  {
   "cell_type": "code",
   "execution_count": 7,
   "id": "31baaf84",
   "metadata": {},
   "outputs": [
    {
     "data": {
      "text/plain": [
       "array([0.4487989505128276, ParameterVectorElement(θ[1]),\n",
       "       0.3490658503988659], dtype=object)"
      ]
     },
     "execution_count": 7,
     "metadata": {},
     "output_type": "execute_result"
    }
   ],
   "source": [
    "param_values = [np.pi / 7, tp[1], np.pi / 9]\n",
    "qk.assign_training_parameters(param_values)\n",
    "qk.parameter_values"
   ]
  },
  {
   "cell_type": "markdown",
   "id": "d4c7caa1",
   "metadata": {},
   "source": [
    "To assign parameter 1 to a numerical value, while leaving parameters 0 and 2 unchaged, we pass in a full list of the new values (values 0 and 2 will remain the same.)"
   ]
  },
  {
   "cell_type": "code",
   "execution_count": 8,
   "id": "8a6d8b7e",
   "metadata": {},
   "outputs": [
    {
     "data": {
      "text/plain": [
       "array([0.44879895, 0.52359878, 0.34906585])"
      ]
     },
     "execution_count": 8,
     "metadata": {},
     "output_type": "execute_result"
    }
   ],
   "source": [
    "param_values = [np.pi / 7, np.pi / 6, np.pi / 9]\n",
    "qk.assign_training_parameters(param_values)\n",
    "qk.parameter_values"
   ]
  },
  {
   "cell_type": "markdown",
   "id": "0878c6e5",
   "metadata": {},
   "source": [
    "Finally, if we want to unbind all of our parameters, we may just pass in a list of the parameters themselves."
   ]
  },
  {
   "cell_type": "code",
   "execution_count": 9,
   "id": "31b68400",
   "metadata": {},
   "outputs": [
    {
     "data": {
      "text/plain": [
       "array([ParameterVectorElement(θ[0]), ParameterVectorElement(θ[1]),\n",
       "       ParameterVectorElement(θ[2])], dtype=object)"
      ]
     },
     "execution_count": 9,
     "metadata": {},
     "output_type": "execute_result"
    }
   ],
   "source": [
    "param_values = [tp[0], tp[1], tp[2]]\n",
    "qk.assign_training_parameters(param_values)\n",
    "qk.parameter_values"
   ]
  },
  {
   "cell_type": "code",
   "execution_count": 10,
   "id": "eede677a",
   "metadata": {},
   "outputs": [
    {
     "data": {
      "text/html": [
       "<h3>Version Information</h3><table><tr><th>Qiskit Software</th><th>Version</th></tr><tr><td><code>qiskit-terra</code></td><td>0.24.0</td></tr><tr><td><code>qiskit-aer</code></td><td>0.12.0</td></tr><tr><td><code>qiskit-machine-learning</code></td><td>0.5.0</td></tr><tr><th>System information</th></tr><tr><td>Python version</td><td>3.9.16</td></tr><tr><td>Python compiler</td><td>Clang 14.0.6 </td></tr><tr><td>Python build</td><td>main, Mar  8 2023 04:29:44</td></tr><tr><td>OS</td><td>Darwin</td></tr><tr><td>CPUs</td><td>8</td></tr><tr><td>Memory (Gb)</td><td>32.0</td></tr><tr><td colspan='2'>Mon May 22 09:16:05 2023 CDT</td></tr></table>"
      ],
      "text/plain": [
       "<IPython.core.display.HTML object>"
      ]
     },
     "metadata": {},
     "output_type": "display_data"
    },
    {
     "data": {
      "text/html": [
       "<div style='width: 100%; background-color:#d5d9e0;padding-left: 10px; padding-bottom: 10px; padding-right: 10px; padding-top: 5px'><h3>This code is a part of Qiskit</h3><p>&copy; Copyright IBM 2017, 2023.</p><p>This code is licensed under the Apache License, Version 2.0. You may<br>obtain a copy of this license in the LICENSE.txt file in the root directory<br> of this source tree or at http://www.apache.org/licenses/LICENSE-2.0.<p>Any modifications or derivative works of this code must retain this<br>copyright notice, and modified files need to carry a notice indicating<br>that they have been altered from the originals.</p></div>"
      ],
      "text/plain": [
       "<IPython.core.display.HTML object>"
      ]
     },
     "metadata": {},
     "output_type": "display_data"
    }
   ],
   "source": [
    "import qiskit.tools.jupyter\n",
    "\n",
    "%qiskit_version_table\n",
    "%qiskit_copyright"
   ]
  }
 ],
 "metadata": {
  "kernelspec": {
   "display_name": "Python 3 (ipykernel)",
   "language": "python",
   "name": "python3"
  },
  "language_info": {
   "codemirror_mode": {
    "name": "ipython",
    "version": 3
   },
   "file_extension": ".py",
   "mimetype": "text/x-python",
   "name": "python",
   "nbconvert_exporter": "python",
   "pygments_lexer": "ipython3",
   "version": "3.9.16"
  }
 },
 "nbformat": 4,
 "nbformat_minor": 5
}
