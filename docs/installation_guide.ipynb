{
 "cells": [
  {
   "cell_type": "markdown",
   "id": "c7620c5d",
   "metadata": {},
   "source": [
    "## Installation\n",
    "\n",
    "To get started running the Quantum Kernel Training (QKT) Toolkit demos and tutorials, users should first clone the repository and install the required dependencies.\n",
    "\n",
    "### Clone the Repository\n",
    "Navigate to your workspace and clone the repository using the HTTPS address.\n",
    "\n",
    "`cd path/to/your/workspace`\n",
    "\n",
    "`git clone https://github.ibm.com/IBM-Q-Software/quantum-kernel-training.git`\n",
    "\n",
    "[This Github tutorial](https://docs.github.com/en/authentication/connecting-to-github-with-ssh) provides more information on cloning git repositories using ssh keys.\n",
    "\n",
    "### Create a Fresh Python Development Environment\n",
    "To avoid dependency conflicts, it is recommended to first start a new Python development environment. We use [conda](https://docs.anaconda.com/anaconda/install/index.html) in this example:\n",
    "\n",
    "`conda create -n qkt-tookit python=3.9`\n",
    "\n",
    "`conda activate qkt-tookit`\n",
    "\n",
    "\n",
    "\n",
    "### Install Dependencies\n",
    "Once a fresh environment has been created, installing the dependencies should be straightforward. Navigate to the\n",
    "top level of the repository and:\n",
    "\n",
    "`pip install -r requirements.txt`\n",
    "\n",
    "\n",
    "\n",
    "### Test Your Environment\n",
    "To make sure the notebooks will run on your local machine, you may test the QKT Toolkit locally. From the top directory:\n",
    "\n",
    "`pip install -r requirements-dev.txt`\n",
    "\n",
    "`make test`\n",
    "\n",
    "### Play Around\n",
    "After the dependencies have installed, users may run the [tutorials](https://github.ibm.com/IBM-Q-Software/quantum-kernel-training/tree/main/docs/tutorials) and [guides](https://github.ibm.com/IBM-Q-Software/quantum-kernel-training/tree/main/docs/how_tos) on their local machines.\n"
   ]
  }
 ],
 "metadata": {
  "kernelspec": {
   "display_name": "Python 3",
   "language": "python",
   "name": "python3"
  },
  "language_info": {
   "codemirror_mode": {
    "name": "ipython",
    "version": 3
   },
   "file_extension": ".py",
   "mimetype": "text/x-python",
   "name": "python",
   "nbconvert_exporter": "python",
   "pygments_lexer": "ipython3",
   "version": "3.8.10"
  }
 },
 "nbformat": 4,
 "nbformat_minor": 5
}
