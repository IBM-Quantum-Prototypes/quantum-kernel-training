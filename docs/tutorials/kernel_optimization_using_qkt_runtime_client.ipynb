{
 "cells": [
  {
   "cell_type": "code",
   "execution_count": 1,
   "id": "413df28d",
   "metadata": {},
   "outputs": [],
   "source": [
    "#pylint: disable=import-error, wrong-import-position\n",
    "import os\n",
    "import sys\n",
    "import json\n",
    "\n",
    "import numpy as np\n",
    "from sklearn import metrics\n",
    "\n",
    "from qiskit import BasicAer\n",
    "from qiskit.visualization import circuit_drawer\n",
    "from qiskit.algorithms.optimizers import SPSA\n",
    "from qiskit.providers.ibmq.runtime.utils import RuntimeEncoder, RuntimeDecoder\n",
    "from qiskit.providers.ibmq.runtime import UserMessenger\n",
    "\n",
    "# Put qiskit-machine-learning subtree at front of Python path\n",
    "ml_path = os.path.abspath(os.path.join('../../qiskit-machine-learning'))\n",
    "sys.path.insert(0, ml_path)\n",
    "from qiskit_machine_learning.kernels import QuantumKernel\n",
    "from qiskit_machine_learning.utils.loss_functions import SVCLoss\n",
    "from qiskit_machine_learning.algorithms import QSVC\n",
    "from qiskit_machine_learning.runtime import QuantumKernelTrainerClient\n",
    "\n",
    "# Put this repository on the Python path and import qkt pkgs\n",
    "module_path = os.path.abspath(os.path.join('../..'))\n",
    "sys.path.append(module_path)\n",
    "from qkt.feature_maps import CovariantFeatureMap\n",
    "from qkt.utils import train_test_split"
   ]
  },
  {
   "cell_type": "markdown",
   "id": "576082c3",
   "metadata": {},
   "source": [
    "# Load 7 qubit dataset"
   ]
  },
  {
   "cell_type": "code",
   "execution_count": 2,
   "id": "176db8d8",
   "metadata": {},
   "outputs": [],
   "source": [
    "# Load the dataset and split into train and test sets\n",
    "DATA_FILEPATH = '../../data/dataset_graph7.csv'\n",
    "X_train, y_train, X_test, y_test = train_test_split(DATA_FILEPATH)\n",
    "data_list = X_train.tolist()\n",
    "labels_list = y_train.tolist()"
   ]
  },
  {
   "cell_type": "markdown",
   "id": "ef4ce71c",
   "metadata": {},
   "source": [
    "# Set up feature map"
   ]
  },
  {
   "cell_type": "code",
   "execution_count": 3,
   "id": "460ff5f2",
   "metadata": {},
   "outputs": [
    {
     "data": {
      "text/html": [
       "<pre style=\"word-wrap: normal;white-space: pre;background: #fff0;line-height: 1.1;font-family: &quot;Courier New&quot;,Courier,monospace\">     ┌──────────────┐             ░ ┌─────────────────┐ ┌─────────────────┐ \n",
       "q_0: ┤ Ry(θ_par[0]) ├─■───────────░─┤ Rz(-2*x_par[1]) ├─┤ Rx(-2*x_par[0]) ├─\n",
       "     ├──────────────┤ │           ░ ├─────────────────┤ ├─────────────────┤ \n",
       "q_1: ┤ Ry(θ_par[0]) ├─┼─────■─────░─┤ Rz(-2*x_par[3]) ├─┤ Rx(-2*x_par[2]) ├─\n",
       "     ├──────────────┤ │     │     ░ ├─────────────────┤ ├─────────────────┤ \n",
       "q_2: ┤ Ry(θ_par[0]) ├─■──■──┼──■──░─┤ Rz(-2*x_par[5]) ├─┤ Rx(-2*x_par[4]) ├─\n",
       "     ├──────────────┤    │  │  │  ░ ├─────────────────┤ ├─────────────────┤ \n",
       "q_3: ┤ Ry(θ_par[0]) ├─■──┼──┼──■──░─┤ Rz(-2*x_par[7]) ├─┤ Rx(-2*x_par[6]) ├─\n",
       "     ├──────────────┤ │  │  │     ░ ├─────────────────┤ ├─────────────────┤ \n",
       "q_4: ┤ Ry(θ_par[0]) ├─■──┼──■──■──░─┤ Rz(-2*x_par[9]) ├─┤ Rx(-2*x_par[8]) ├─\n",
       "     ├──────────────┤    │     │  ░ ├─────────────────┴┐├─────────────────┴┐\n",
       "q_5: ┤ Ry(θ_par[0]) ├────■─────┼──░─┤ Rz(-2*x_par[11]) ├┤ Rx(-2*x_par[10]) ├\n",
       "     ├──────────────┤          │  ░ ├──────────────────┤├──────────────────┤\n",
       "q_6: ┤ Ry(θ_par[0]) ├──────────■──░─┤ Rz(-2*x_par[13]) ├┤ Rx(-2*x_par[12]) ├\n",
       "     └──────────────┘             ░ └──────────────────┘└──────────────────┘</pre>"
      ],
      "text/plain": [
       "     ┌──────────────┐             ░ ┌─────────────────┐ ┌─────────────────┐ \n",
       "q_0: ┤ Ry(θ_par[0]) ├─■───────────░─┤ Rz(-2*x_par[1]) ├─┤ Rx(-2*x_par[0]) ├─\n",
       "     ├──────────────┤ │           ░ ├─────────────────┤ ├─────────────────┤ \n",
       "q_1: ┤ Ry(θ_par[0]) ├─┼─────■─────░─┤ Rz(-2*x_par[3]) ├─┤ Rx(-2*x_par[2]) ├─\n",
       "     ├──────────────┤ │     │     ░ ├─────────────────┤ ├─────────────────┤ \n",
       "q_2: ┤ Ry(θ_par[0]) ├─■──■──┼──■──░─┤ Rz(-2*x_par[5]) ├─┤ Rx(-2*x_par[4]) ├─\n",
       "     ├──────────────┤    │  │  │  ░ ├─────────────────┤ ├─────────────────┤ \n",
       "q_3: ┤ Ry(θ_par[0]) ├─■──┼──┼──■──░─┤ Rz(-2*x_par[7]) ├─┤ Rx(-2*x_par[6]) ├─\n",
       "     ├──────────────┤ │  │  │     ░ ├─────────────────┤ ├─────────────────┤ \n",
       "q_4: ┤ Ry(θ_par[0]) ├─■──┼──■──■──░─┤ Rz(-2*x_par[9]) ├─┤ Rx(-2*x_par[8]) ├─\n",
       "     ├──────────────┤    │     │  ░ ├─────────────────┴┐├─────────────────┴┐\n",
       "q_5: ┤ Ry(θ_par[0]) ├────■─────┼──░─┤ Rz(-2*x_par[11]) ├┤ Rx(-2*x_par[10]) ├\n",
       "     ├──────────────┤          │  ░ ├──────────────────┤├──────────────────┤\n",
       "q_6: ┤ Ry(θ_par[0]) ├──────────■──░─┤ Rz(-2*x_par[13]) ├┤ Rx(-2*x_par[12]) ├\n",
       "     └──────────────┘             ░ └──────────────────┘└──────────────────┘"
      ]
     },
     "execution_count": 3,
     "metadata": {},
     "output_type": "execute_result"
    }
   ],
   "source": [
    "num_features = np.shape(X_train)[1]\n",
    "entangler_map = [[0,2],[3,4],[2,5],[1,4],[2,3],[4,6]]\n",
    "\n",
    "# Note that [[0,1],[2,3],[4,5],[6,7],[8,9],[1,2],[3,4],[5,6],[7,8]]\n",
    "# is a suitable input for the 10-qubit dataset\n",
    "\n",
    "fm = CovariantFeatureMap(\n",
    "    feature_dimension=num_features,\n",
    "    entanglement=entangler_map,\n",
    "    single_training_parameter=True\n",
    ")\n",
    "\n",
    "circuit_drawer(fm)"
   ]
  },
  {
   "cell_type": "markdown",
   "id": "f446a4ae",
   "metadata": {},
   "source": [
    "# Set up the QKTRuntimeClient object"
   ]
  },
  {
   "cell_type": "code",
   "execution_count": 4,
   "id": "159dae07",
   "metadata": {},
   "outputs": [
    {
     "name": "stdout",
     "output_type": "stream",
     "text": [
      "{ParameterExpression(θ_par[0]): ParameterExpression(θ_par[0])}\n"
     ]
    }
   ],
   "source": [
    "SHOTS = 1024\n",
    "MEASUREMENT_ERROR_MITIGATION = False\n",
    "\n",
    "# Use QASM simulator backend\n",
    "backend = BasicAer.get_backend('qasm_simulator')\n",
    "\n",
    "# Instantiate quantum kernel\n",
    "quant_kernel = QuantumKernel(fm,\n",
    "                             user_parameters=fm.user_parameters,\n",
    "                             quantum_instance=backend)\n",
    "\n",
    "# Set up the optimizer\n",
    "optimizer = SPSA(maxiter=10,\n",
    "                learning_rate=0.1,\n",
    "                perturbation=0.1\n",
    "            )\n",
    "\n",
    "# Set up the loss callable\n",
    "loss_func = SVCLoss().get_variational_callable(\n",
    "                quant_kernel, X_train, y_train\n",
    ")\n",
    "\n",
    "inputs = {\n",
    "    \"quantum_kernel\": quant_kernel,\n",
    "    \"data\": X_train,\n",
    "    \"labels\": y_train,\n",
    "    \"optimizer\": optimizer,\n",
    "    \"shots\": SHOTS,\n",
    "    \"measurement_error_mitigation\": MEASUREMENT_ERROR_MITIGATION,\n",
    "}\n",
    "\n",
    "serialized_inputs = json.dumps(inputs, cls=RuntimeEncoder)\n",
    "deserialized_inputs = json.loads(serialized_inputs, cls=RuntimeDecoder)\n",
    "qk = deserialized_inputs['quantum_kernel']\n",
    "up = qk.user_parameters\n",
    "print(qk.user_param_binds)\n",
    "\n",
    "#deserialized_inputs.quantum_kernel.feature_map.draw()\n",
    "# Instantiate the QKTRuntimeClient object\n",
    "#qkt_program = QuantumKernelTrainerClient(\n",
    "#    quantum_kernel=quant_kernel,\n",
    "#    backend=backend,\n",
    "#    loss=loss_func,\n",
    "#    optimizer=optimizer,\n",
    "#    shots=SHOTS,\n",
    "#    measurement_error_mitigation=MEASUREMENT_ERROR_MITIGATION\n",
    "#)"
   ]
  },
  {
   "cell_type": "markdown",
   "id": "894bc9a3",
   "metadata": {},
   "source": [
    "# Fit the kernel via runtime and retrieve the optimized quantum kernel"
   ]
  },
  {
   "cell_type": "code",
   "execution_count": 7,
   "id": "50bdb695",
   "metadata": {},
   "outputs": [],
   "source": [
    "#qkt_results = qkt_program.fit_kernel(X_train, y_train)\n",
    "#optimized_kernel = qkt_results.quantum_kernel"
   ]
  },
  {
   "cell_type": "markdown",
   "id": "f4ab7670",
   "metadata": {},
   "source": [
    "# Analyze performance on test data using an SVC model"
   ]
  },
  {
   "cell_type": "code",
   "execution_count": 8,
   "id": "87e9bc62",
   "metadata": {},
   "outputs": [],
   "source": [
    "# Use QSVC to test the kernel\n",
    "#qsvc = QSVC(quantum_kernel=optimized_kernel)\n",
    "\n",
    "# Fit the QSVC\n",
    "#qsvc.fit(X_train, y_train)\n",
    "\n",
    "# Predict the labels\n",
    "#labels_test = qsvc.predict(X_test)\n",
    "\n",
    "# Measure unweighted accuracy\n",
    "#accuracy_test = metrics.balanced_accuracy_score(y_true=y_test, y_pred=labels_test)\n",
    "#print(f\"accuracy test: {accuracy_test}\")"
   ]
  }
 ],
 "metadata": {
  "kernelspec": {
   "display_name": "Python 3",
   "language": "python",
   "name": "python3"
  },
  "language_info": {
   "codemirror_mode": {
    "name": "ipython",
    "version": 3
   },
   "file_extension": ".py",
   "mimetype": "text/x-python",
   "name": "python",
   "nbconvert_exporter": "python",
   "pygments_lexer": "ipython3",
   "version": "3.8.10"
  }
 },
 "nbformat": 4,
 "nbformat_minor": 5
}
