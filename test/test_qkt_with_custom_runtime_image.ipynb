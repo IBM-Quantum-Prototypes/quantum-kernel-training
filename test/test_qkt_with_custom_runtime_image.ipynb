{
 "cells": [
  {
   "cell_type": "code",
   "execution_count": 1,
   "id": "fd00d647",
   "metadata": {},
   "outputs": [],
   "source": [
    "import os\n",
    "import sys\n",
    "\n",
    "# External imports and Qiskit imports\n",
    "from qiskit import Aer, IBMQ\n",
    "from qiskit.circuit import QuantumCircuit, ParameterVector\n",
    "from qiskit.visualization import circuit_drawer\n",
    "from qiskit.algorithms.optimizers import SPSA\n",
    "from qiskit.providers.ibmq.runtime import UserMessenger\n",
    "from pylab import cm\n",
    "from sklearn import metrics\n",
    "import numpy as np\n",
    "import matplotlib.pyplot as plt\n",
    "%matplotlib inline\n",
    "\n",
    "# Put qiskit-machine-learning subtree at front of Python path\n",
    "ml_path = os.path.abspath(os.path.join('../qiskit-machine-learning'))\n",
    "sys.path.insert(0, ml_path)\n",
    "from qiskit_machine_learning.kernels import QuantumKernel\n",
    "from qiskit_machine_learning.algorithms import QSVC\n",
    "\n",
    "# Put this repository on the Python path and import qkt pkgs\n",
    "module_path = os.path.abspath(os.path.join('../'))\n",
    "sys.path.append(module_path)\n",
    "from qkt.feature_maps import CovariantFeatureMap\n",
    "from qkt.utils import train_test_split, QKTCallback"
   ]
  },
  {
   "cell_type": "code",
   "execution_count": 2,
   "id": "2f79c81c",
   "metadata": {},
   "outputs": [],
   "source": [
    "provider = IBMQ.load_account()"
   ]
  },
  {
   "cell_type": "code",
   "execution_count": 3,
   "id": "78694706",
   "metadata": {},
   "outputs": [],
   "source": [
    "#program_id = provider.runtime.upload_program(\n",
    "#    data=\"../../ntc-ibm-programs/runtime/quantum_kernel_trainer.py\",\n",
    "#    metadata=\"../../ntc-ibm-programs/runtime/quantum_kernel_trainer.json\")\n",
    "#print(program_id)"
   ]
  },
  {
   "cell_type": "code",
   "execution_count": 4,
   "id": "084268c7",
   "metadata": {},
   "outputs": [],
   "source": [
    "#print(provider.runtime.delete_program('quantum-kernel-trainer-E9m4wwJ1KB'))"
   ]
  },
  {
   "cell_type": "code",
   "execution_count": 5,
   "id": "a4b843e1",
   "metadata": {},
   "outputs": [],
   "source": [
    "# Load the dataset and split into train and test sets\n",
    "DATA_FILEPATH = '../data/dataset_graph7.csv'\n",
    "X_train, y_train, X_test, y_test = train_test_split(DATA_FILEPATH)"
   ]
  },
  {
   "cell_type": "code",
   "execution_count": 6,
   "id": "dc3fb79f",
   "metadata": {},
   "outputs": [
    {
     "data": {
      "text/html": [
       "<pre style=\"word-wrap: normal;white-space: pre;background: #fff0;line-height: 1.1;font-family: &quot;Courier New&quot;,Courier,monospace\">     ┌──────────────┐             ░ ┌─────────────────┐ ┌─────────────────┐ \n",
       "q_0: ┤ Ry(θ_par[0]) ├─■───────────░─┤ Rz(-2*x_par[1]) ├─┤ Rx(-2*x_par[0]) ├─\n",
       "     ├──────────────┤ │           ░ ├─────────────────┤ ├─────────────────┤ \n",
       "q_1: ┤ Ry(θ_par[0]) ├─┼─────■─────░─┤ Rz(-2*x_par[3]) ├─┤ Rx(-2*x_par[2]) ├─\n",
       "     ├──────────────┤ │     │     ░ ├─────────────────┤ ├─────────────────┤ \n",
       "q_2: ┤ Ry(θ_par[0]) ├─■──■──┼──■──░─┤ Rz(-2*x_par[5]) ├─┤ Rx(-2*x_par[4]) ├─\n",
       "     ├──────────────┤    │  │  │  ░ ├─────────────────┤ ├─────────────────┤ \n",
       "q_3: ┤ Ry(θ_par[0]) ├─■──┼──┼──■──░─┤ Rz(-2*x_par[7]) ├─┤ Rx(-2*x_par[6]) ├─\n",
       "     ├──────────────┤ │  │  │     ░ ├─────────────────┤ ├─────────────────┤ \n",
       "q_4: ┤ Ry(θ_par[0]) ├─■──┼──■──■──░─┤ Rz(-2*x_par[9]) ├─┤ Rx(-2*x_par[8]) ├─\n",
       "     ├──────────────┤    │     │  ░ ├─────────────────┴┐├─────────────────┴┐\n",
       "q_5: ┤ Ry(θ_par[0]) ├────■─────┼──░─┤ Rz(-2*x_par[11]) ├┤ Rx(-2*x_par[10]) ├\n",
       "     ├──────────────┤          │  ░ ├──────────────────┤├──────────────────┤\n",
       "q_6: ┤ Ry(θ_par[0]) ├──────────■──░─┤ Rz(-2*x_par[13]) ├┤ Rx(-2*x_par[12]) ├\n",
       "     └──────────────┘             ░ └──────────────────┘└──────────────────┘</pre>"
      ],
      "text/plain": [
       "     ┌──────────────┐             ░ ┌─────────────────┐ ┌─────────────────┐ \n",
       "q_0: ┤ Ry(θ_par[0]) ├─■───────────░─┤ Rz(-2*x_par[1]) ├─┤ Rx(-2*x_par[0]) ├─\n",
       "     ├──────────────┤ │           ░ ├─────────────────┤ ├─────────────────┤ \n",
       "q_1: ┤ Ry(θ_par[0]) ├─┼─────■─────░─┤ Rz(-2*x_par[3]) ├─┤ Rx(-2*x_par[2]) ├─\n",
       "     ├──────────────┤ │     │     ░ ├─────────────────┤ ├─────────────────┤ \n",
       "q_2: ┤ Ry(θ_par[0]) ├─■──■──┼──■──░─┤ Rz(-2*x_par[5]) ├─┤ Rx(-2*x_par[4]) ├─\n",
       "     ├──────────────┤    │  │  │  ░ ├─────────────────┤ ├─────────────────┤ \n",
       "q_3: ┤ Ry(θ_par[0]) ├─■──┼──┼──■──░─┤ Rz(-2*x_par[7]) ├─┤ Rx(-2*x_par[6]) ├─\n",
       "     ├──────────────┤ │  │  │     ░ ├─────────────────┤ ├─────────────────┤ \n",
       "q_4: ┤ Ry(θ_par[0]) ├─■──┼──■──■──░─┤ Rz(-2*x_par[9]) ├─┤ Rx(-2*x_par[8]) ├─\n",
       "     ├──────────────┤    │     │  ░ ├─────────────────┴┐├─────────────────┴┐\n",
       "q_5: ┤ Ry(θ_par[0]) ├────■─────┼──░─┤ Rz(-2*x_par[11]) ├┤ Rx(-2*x_par[10]) ├\n",
       "     ├──────────────┤          │  ░ ├──────────────────┤├──────────────────┤\n",
       "q_6: ┤ Ry(θ_par[0]) ├──────────■──░─┤ Rz(-2*x_par[13]) ├┤ Rx(-2*x_par[12]) ├\n",
       "     └──────────────┘             ░ └──────────────────┘└──────────────────┘"
      ]
     },
     "execution_count": 6,
     "metadata": {},
     "output_type": "execute_result"
    }
   ],
   "source": [
    "num_features = np.shape(X_train)[1]\n",
    "entangler_map = [[0,2],[3,4],[2,5],[1,4],[2,3],[4,6]]\n",
    "\n",
    "# Note that [[0,1],[2,3],[4,5],[6,7],[8,9],[1,2],[3,4],[5,6],[7,8]]\n",
    "# is a suitable input for the 10-qubit dataset\n",
    "\n",
    "fm = CovariantFeatureMap(\n",
    "    feature_dimension=num_features,\n",
    "    entanglement=entangler_map,\n",
    "    single_training_parameter=True\n",
    ")\n",
    "circuit_drawer(fm)"
   ]
  },
  {
   "cell_type": "code",
   "execution_count": 7,
   "id": "7fe5898b",
   "metadata": {},
   "outputs": [
    {
     "name": "stdout",
     "output_type": "stream",
     "text": [
      "c6khf1q01r3clbe7igl0\n",
      "final result: {'optimizer_evals': 200, 'optimal_value': 10.172856806272426, 'optimal_point': array([0.320603])}\n"
     ]
    }
   ],
   "source": [
    "# Use the qasm simulator backend\n",
    "backend = provider.get_backend('simulator_statevector')\n",
    "\n",
    "# Instantiate quantum kernel\n",
    "quant_kernel = QuantumKernel(fm,\n",
    "                             user_parameters=fm.user_parameters,\n",
    "                             quantum_instance=backend)\n",
    "\n",
    "# Set up the optimizer\n",
    "spsa_opt = SPSA(maxiter=100, learning_rate=0.1, perturbation=0.1)\n",
    "\n",
    "runtime_inputs = {\n",
    "    \"quantum_kernel\": quant_kernel,\n",
    "    \"data\": X_train,\n",
    "    \"labels\": y_train,\n",
    "    \"optimizer\": spsa_opt,\n",
    "    \"shots\": 1,\n",
    "    \"initial_point\": [0.1],\n",
    "    \"measurement_error_mitigation\": False,\n",
    "}\n",
    "\n",
    "options = {'backend_name': 'simulator_statevector'}\n",
    "\n",
    "job = provider.runtime.run(program_id=\"quantum-kernel-trainer-39vqXArNdB\",\n",
    "                           options=options,\n",
    "                           image=\"quantum-kernel-trainer:latest\",\n",
    "                           inputs=runtime_inputs\n",
    "                          )\n",
    "\n",
    "print(job.job_id())\n",
    "final_results = job.result()\n",
    "print(f\"final result: {final_results}\")"
   ]
  },
  {
   "cell_type": "code",
   "execution_count": 8,
   "id": "b7d15b35",
   "metadata": {},
   "outputs": [],
   "source": [
    "quant_kernel.assign_user_parameters(final_results['optimal_point'])"
   ]
  },
  {
   "cell_type": "code",
   "execution_count": 9,
   "id": "4d129903",
   "metadata": {},
   "outputs": [
    {
     "name": "stdout",
     "output_type": "stream",
     "text": [
      "accuracy test: 0.75\n"
     ]
    }
   ],
   "source": [
    "# Use QSVC for classification\n",
    "qsvc = QSVC(quantum_kernel=quant_kernel)\n",
    "\n",
    "# Fit the QSVC\n",
    "qsvc.fit(X_train, y_train)\n",
    "\n",
    "# Predict the labels\n",
    "labels_test = qsvc.predict(X_test)\n",
    "\n",
    "# Evalaute the test accuracy\n",
    "accuracy_test = metrics.balanced_accuracy_score(y_true=y_test, y_pred=labels_test)\n",
    "print(f\"accuracy test: {accuracy_test}\")"
   ]
  }
 ],
 "metadata": {
  "kernelspec": {
   "display_name": "Python 3",
   "language": "python",
   "name": "python3"
  },
  "language_info": {
   "codemirror_mode": {
    "name": "ipython",
    "version": 3
   },
   "file_extension": ".py",
   "mimetype": "text/x-python",
   "name": "python",
   "nbconvert_exporter": "python",
   "pygments_lexer": "ipython3",
   "version": "3.8.10"
  }
 },
 "nbformat": 4,
 "nbformat_minor": 5
}
